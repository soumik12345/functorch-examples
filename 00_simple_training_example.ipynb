{
  "nbformat": 4,
  "nbformat_minor": 0,
  "metadata": {
    "colab": {
      "name": "00_simple_training_example.ipynb",
      "provenance": [],
      "collapsed_sections": []
    },
    "kernelspec": {
      "name": "python3",
      "display_name": "Python 3"
    },
    "language_info": {
      "name": "python"
    }
  },
  "cells": [
    {
      "cell_type": "code",
      "execution_count": 1,
      "metadata": {
        "colab": {
          "base_uri": "https://localhost:8080/"
        },
        "id": "uLO0yX_bGldU",
        "outputId": "9c1da4dc-35a2-4b6c-d93b-b2820d73f413"
      },
      "outputs": [
        {
          "output_type": "stream",
          "name": "stdout",
          "text": [
            "Looking in links: https://download.pytorch.org/whl/cpu/torch_stable.html\n",
            "Collecting torch==1.11.0+cpu\n",
            "  Downloading https://download.pytorch.org/whl/cpu/torch-1.11.0%2Bcpu-cp37-cp37m-linux_x86_64.whl (169.1 MB)\n",
            "\u001b[K     |████████████████████████████████| 169.1 MB 36 kB/s \n",
            "\u001b[?25hCollecting torchvision==0.12.0+cpu\n",
            "  Downloading https://download.pytorch.org/whl/cpu/torchvision-0.12.0%2Bcpu-cp37-cp37m-linux_x86_64.whl (14.7 MB)\n",
            "\u001b[K     |████████████████████████████████| 14.7 MB 50.2 MB/s \n",
            "\u001b[?25hCollecting torchaudio==0.11.0+cpu\n",
            "  Downloading https://download.pytorch.org/whl/cpu/torchaudio-0.11.0%2Bcpu-cp37-cp37m-linux_x86_64.whl (2.7 MB)\n",
            "\u001b[K     |████████████████████████████████| 2.7 MB 33.9 MB/s \n",
            "\u001b[?25hRequirement already satisfied: typing-extensions in /usr/local/lib/python3.7/dist-packages (from torch==1.11.0+cpu) (3.10.0.2)\n",
            "Requirement already satisfied: requests in /usr/local/lib/python3.7/dist-packages (from torchvision==0.12.0+cpu) (2.23.0)\n",
            "Requirement already satisfied: pillow!=8.3.*,>=5.3.0 in /usr/local/lib/python3.7/dist-packages (from torchvision==0.12.0+cpu) (7.1.2)\n",
            "Requirement already satisfied: numpy in /usr/local/lib/python3.7/dist-packages (from torchvision==0.12.0+cpu) (1.21.5)\n",
            "Requirement already satisfied: urllib3!=1.25.0,!=1.25.1,<1.26,>=1.21.1 in /usr/local/lib/python3.7/dist-packages (from requests->torchvision==0.12.0+cpu) (1.24.3)\n",
            "Requirement already satisfied: idna<3,>=2.5 in /usr/local/lib/python3.7/dist-packages (from requests->torchvision==0.12.0+cpu) (2.10)\n",
            "Requirement already satisfied: certifi>=2017.4.17 in /usr/local/lib/python3.7/dist-packages (from requests->torchvision==0.12.0+cpu) (2021.10.8)\n",
            "Requirement already satisfied: chardet<4,>=3.0.2 in /usr/local/lib/python3.7/dist-packages (from requests->torchvision==0.12.0+cpu) (3.0.4)\n",
            "Installing collected packages: torch, torchvision, torchaudio\n",
            "  Attempting uninstall: torch\n",
            "    Found existing installation: torch 1.10.0+cu111\n",
            "    Uninstalling torch-1.10.0+cu111:\n",
            "      Successfully uninstalled torch-1.10.0+cu111\n",
            "  Attempting uninstall: torchvision\n",
            "    Found existing installation: torchvision 0.11.1+cu111\n",
            "    Uninstalling torchvision-0.11.1+cu111:\n",
            "      Successfully uninstalled torchvision-0.11.1+cu111\n",
            "  Attempting uninstall: torchaudio\n",
            "    Found existing installation: torchaudio 0.10.0+cu111\n",
            "    Uninstalling torchaudio-0.10.0+cu111:\n",
            "      Successfully uninstalled torchaudio-0.10.0+cu111\n",
            "\u001b[31mERROR: pip's dependency resolver does not currently take into account all the packages that are installed. This behaviour is the source of the following dependency conflicts.\n",
            "torchtext 0.11.0 requires torch==1.10.0, but you have torch 1.11.0+cpu which is incompatible.\u001b[0m\n",
            "Successfully installed torch-1.11.0+cpu torchaudio-0.11.0+cpu torchvision-0.12.0+cpu\n",
            "Collecting functorch\n",
            "  Downloading functorch-0.1.0-cp37-cp37m-manylinux1_x86_64.whl (21.0 MB)\n",
            "\u001b[K     |████████████████████████████████| 21.0 MB 1.6 MB/s \n",
            "\u001b[?25hRequirement already satisfied: torch<1.12,>=1.11 in /usr/local/lib/python3.7/dist-packages (from functorch) (1.11.0+cpu)\n",
            "Requirement already satisfied: typing-extensions in /usr/local/lib/python3.7/dist-packages (from torch<1.12,>=1.11->functorch) (3.10.0.2)\n",
            "Installing collected packages: functorch\n",
            "Successfully installed functorch-0.1.0\n"
          ]
        }
      ],
      "source": [
        "!pip install torch==1.11.0+cpu torchvision==0.12.0+cpu torchaudio==0.11.0+cpu -f https://download.pytorch.org/whl/cpu/torch_stable.html\n",
        "!pip install functorch"
      ]
    },
    {
      "cell_type": "code",
      "source": [
        "print(\"--> Restarting colab instance\") \n",
        "get_ipython().kernel.do_shutdown(True)"
      ],
      "metadata": {
        "colab": {
          "base_uri": "https://localhost:8080/"
        },
        "id": "GetJR0TjG4HF",
        "outputId": "1feb68c4-5770-4a08-bfd7-5383ef58640f"
      },
      "execution_count": 2,
      "outputs": [
        {
          "output_type": "stream",
          "name": "stdout",
          "text": [
            "--> Restarting colab instance\n"
          ]
        },
        {
          "output_type": "execute_result",
          "data": {
            "text/plain": [
              "{'restart': True, 'status': 'ok'}"
            ]
          },
          "metadata": {},
          "execution_count": 2
        }
      ]
    },
    {
      "cell_type": "code",
      "source": [
        "import torch\n",
        "import torch.nn as nn\n",
        "import torch.nn.functional as F\n",
        "\n",
        "import torchvision\n",
        "import torchvision.transforms as transforms\n",
        "\n",
        "from functorch import make_functional, vmap\n",
        "\n",
        "import numpy as np\n",
        "import matplotlib.pyplot as plt"
      ],
      "metadata": {
        "id": "8_XJs_X5IDlw"
      },
      "execution_count": 1,
      "outputs": []
    },
    {
      "cell_type": "code",
      "source": [
        "BATCH_SIZE = 16\n",
        "FEATURES = 64\n",
        "NUM_LAYERS = 8\n",
        "LEARNING_RATE = 0.1\n",
        "TRAIN_STEPS = 100"
      ],
      "metadata": {
        "id": "FXCaLxIhL1iB"
      },
      "execution_count": 9,
      "outputs": []
    },
    {
      "cell_type": "code",
      "source": [
        "class SimpleModel(nn.Module):\n",
        "    def __init__(self):\n",
        "        super().__init__()\n",
        "        model = []\n",
        "        for _ in range(NUM_LAYERS):\n",
        "            model.append(nn.Linear(FEATURES, FEATURES, bias=False))\n",
        "        self.model = nn.Sequential(*model)\n",
        "\n",
        "    def forward(self, x):\n",
        "        return (self.model(x)**2).sum()"
      ],
      "metadata": {
        "id": "8gFYQ2z3Lay0"
      },
      "execution_count": 10,
      "outputs": []
    },
    {
      "cell_type": "code",
      "source": [
        "input_data = torch.randn((BATCH_SIZE, FEATURES))\n",
        "\n",
        "model = SimpleModel()\n",
        "jit_model = torch.jit.script(model)\n",
        "\n",
        "functional_model, parameters = make_functional(model)"
      ],
      "metadata": {
        "id": "A4SOmwGWLyaU"
      },
      "execution_count": 11,
      "outputs": []
    },
    {
      "cell_type": "code",
      "source": [
        "optimizer = torch.optim.SGD(\n",
        "    parameters, lr=LEARNING_RATE,\n",
        "    momentum=0, dampening=0, weight_decay=0\n",
        ")"
      ],
      "metadata": {
        "id": "FShA5w7QNJKD"
      },
      "execution_count": 12,
      "outputs": []
    },
    {
      "cell_type": "code",
      "source": [
        "def train_step_functional(data, params):\n",
        "    params = [param.detach().requires_grad_() for param in params]\n",
        "    out = functional_model(params, data)\n",
        "    out.backward()\n",
        "    updated_params = [param - LEARNING_RATE * param.grad for param in params]\n",
        "    return out, updated_params"
      ],
      "metadata": {
        "id": "KFgJ4QbZMUFe"
      },
      "execution_count": 13,
      "outputs": []
    },
    {
      "cell_type": "code",
      "source": [
        "def train(train_step_fn, params):\n",
        "    torch.manual_seed(16)\n",
        "    train_step_fn(input_data, params)\n",
        "    for step in range(TRAIN_STEPS):\n",
        "        loss, params = train_step_fn(\n",
        "            torch.randn(BATCH_SIZE, FEATURES), params\n",
        "        )\n",
        "        if step % 10 == 0:\n",
        "            print(f\"Loss at Step {step}: {loss}\")"
      ],
      "metadata": {
        "id": "hVr2buX_M3qc"
      },
      "execution_count": 14,
      "outputs": []
    },
    {
      "cell_type": "code",
      "source": [
        "train(train_step_functional, parameters)"
      ],
      "metadata": {
        "colab": {
          "base_uri": "https://localhost:8080/"
        },
        "id": "dc4w_rM-NHbP",
        "outputId": "337315f3-8065-4e0e-e5cf-7f6344ea5ac4"
      },
      "execution_count": 15,
      "outputs": [
        {
          "output_type": "stream",
          "name": "stdout",
          "text": [
            "Loss at Step 0: 0.13981828093528748\n",
            "Loss at Step 10: 0.043717481195926666\n",
            "Loss at Step 20: 0.01685665361583233\n",
            "Loss at Step 30: 0.015003936365246773\n",
            "Loss at Step 40: 0.014027919620275497\n",
            "Loss at Step 50: 0.009594528004527092\n",
            "Loss at Step 60: 0.009202130138874054\n",
            "Loss at Step 70: 0.008044816553592682\n",
            "Loss at Step 80: 0.007874097675085068\n",
            "Loss at Step 90: 0.006949734874069691\n"
          ]
        }
      ]
    },
    {
      "cell_type": "code",
      "source": [
        ""
      ],
      "metadata": {
        "id": "HZv9sHx6ObtS"
      },
      "execution_count": null,
      "outputs": []
    }
  ]
}
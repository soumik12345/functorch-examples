{
 "cells": [
  {
   "cell_type": "code",
   "execution_count": null,
   "metadata": {
    "id": "VYzurmxkQ0kN"
   },
   "outputs": [],
   "source": [
    "# !pip install torch==1.11.0+cpu torchvision==0.12.0+cpu torchaudio==0.11.0+cpu -f https://download.pytorch.org/whl/cpu/torch_stable.html\n",
    "# !pip install functorch\n",
    "\n",
    "# print(\"--> Restarting colab instance\") \n",
    "# get_ipython().kernel.do_shutdown(True)"
   ]
  },
  {
   "cell_type": "code",
   "execution_count": null,
   "metadata": {
    "id": "ErQbIygMSrfE"
   },
   "outputs": [],
   "source": [
    "import torch\n",
    "import torch.nn as nn\n",
    "import torch.optim as optim\n",
    "import torch.nn.functional as F\n",
    "\n",
    "import torchvision\n",
    "import torchvision.transforms as transforms\n",
    "\n",
    "from torchmetrics import Accuracy\n",
    "\n",
    "import wandb\n",
    "\n",
    "import numpy as np\n",
    "from tqdm.notebook import tqdm\n",
    "import matplotlib.pyplot as plt"
   ]
  },
  {
   "cell_type": "code",
   "execution_count": null,
   "metadata": {},
   "outputs": [],
   "source": [
    "wandb.init(project=\"functorch-examples\")\n",
    "\n",
    "config = wandb.config\n",
    "config.batch_size = 64\n",
    "config.num_workers = 2\n",
    "config.learning_rate = 1e-2\n",
    "config.epochs = 5\n",
    "config.artifact_address = 'geekyrakshit/functorch-examples/cifar-10:v0'\n",
    "config.device = \"cuda:0\" if torch.cuda.is_available() else \"cpu\"\n",
    "config.classes = (\n",
    "    'plane', 'car', 'bird', 'cat', 'deer',\n",
    "    'dog', 'frog', 'horse', 'ship', 'truck'\n",
    ")"
   ]
  },
  {
   "cell_type": "code",
   "execution_count": null,
   "metadata": {
    "colab": {
     "base_uri": "https://localhost:8080/"
    },
    "id": "IrtL3rduTlnq",
    "outputId": "a08a5172-6148-4116-b334-3d7488d19325"
   },
   "outputs": [],
   "source": [
    "artifact = wandb.use_artifact(config.artifact_address, type='dataset')\n",
    "artifact_dir = artifact.download()\n",
    "\n",
    "transform = transforms.Compose([\n",
    "    transforms.ToTensor(),\n",
    "    transforms.Normalize(\n",
    "        (0.5, 0.5, 0.5), (0.5, 0.5, 0.5)\n",
    "    )\n",
    "])\n",
    "\n",
    "train_dataset = torchvision.datasets.CIFAR10(\n",
    "    root=artifact_dir, train=True,\n",
    "    download=False, transform=transform\n",
    ")\n",
    "train_loader = torch.utils.data.DataLoader(\n",
    "    train_dataset, batch_size=config.batch_size,\n",
    "    shuffle=True, num_workers=config.num_workers\n",
    ")\n",
    "\n",
    "test_dataset = torchvision.datasets.CIFAR10(\n",
    "    root=artifact_dir, train=False,\n",
    "    download=False, transform=transform\n",
    ")\n",
    "test_dataloader = torch.utils.data.DataLoader(\n",
    "    test_dataset, batch_size=config.batch_size,\n",
    "    shuffle=False, num_workers=config.num_workers\n",
    ")"
   ]
  },
  {
   "cell_type": "code",
   "execution_count": null,
   "metadata": {
    "colab": {
     "base_uri": "https://localhost:8080/",
     "height": 155
    },
    "id": "E-PJ9BplUCqU",
    "outputId": "78e76f45-9439-437a-8e37-ab1fa942f386"
   },
   "outputs": [],
   "source": [
    "def imshow(img):\n",
    "    img = img / 2 + 0.5\n",
    "    npimg = img.numpy()\n",
    "    plt.imshow(np.transpose(npimg, (1, 2, 0)))\n",
    "    plt.show()\n",
    "\n",
    "\n",
    "dataiter = iter(train_loader)\n",
    "images, labels = dataiter.next()\n",
    "\n",
    "imshow(torchvision.utils.make_grid(images[0:4]))\n",
    "print(' '.join(f'{config.classes[labels[j]]:5s}' for j in range(4)))"
   ]
  },
  {
   "cell_type": "code",
   "execution_count": null,
   "metadata": {
    "id": "TyyaryTxUQLY"
   },
   "outputs": [],
   "source": [
    "class Classifier(nn.Module):\n",
    "    def __init__(self):\n",
    "        super().__init__()\n",
    "        self.conv1 = nn.Conv2d(3, 6, 5)\n",
    "        self.pool = nn.MaxPool2d(2, 2)\n",
    "        self.conv2 = nn.Conv2d(6, 16, 5)\n",
    "        self.fc1 = nn.Linear(16 * 5 * 5, 120)\n",
    "        self.fc2 = nn.Linear(120, 84)\n",
    "        self.fc3 = nn.Linear(84, 10)\n",
    "\n",
    "    def forward(self, x):\n",
    "        x = self.pool(F.relu(self.conv1(x)))\n",
    "        x = self.pool(F.relu(self.conv2(x)))\n",
    "        x = torch.flatten(x, 1)\n",
    "        x = F.relu(self.fc1(x))\n",
    "        x = F.relu(self.fc2(x))\n",
    "        x = self.fc3(x)\n",
    "        return x"
   ]
  },
  {
   "cell_type": "code",
   "execution_count": null,
   "metadata": {},
   "outputs": [],
   "source": [
    "def to_device(tensors, device=\"cpu\"):\n",
    "    \"Put tensors on device\"\n",
    "    if isinstance(tensors, (list, tuple)):\n",
    "        return tuple(to_device(t, device) for t in tensors)\n",
    "    elif isinstance(tensors, torch.Tensor):\n",
    "        return tensors.to(device)\n",
    "    else:\n",
    "        raise Exception(\"Not a torch tensor-ish\")"
   ]
  },
  {
   "cell_type": "markdown",
   "metadata": {
    "id": "q9PXrblmXZns"
   },
   "source": [
    "## Stateful PyTorch"
   ]
  },
  {
   "cell_type": "code",
   "execution_count": null,
   "metadata": {
    "id": "KMa0eC82Uk7R"
   },
   "outputs": [],
   "source": [
    "model = Classifier().to(config.device)\n",
    "criterion = nn.CrossEntropyLoss()\n",
    "optimizer = optim.Adam(model.parameters(), lr=config.learning_rate)\n",
    "metric = Accuracy().to(config.device)"
   ]
  },
  {
   "cell_type": "code",
   "execution_count": null,
   "metadata": {
    "colab": {
     "base_uri": "https://localhost:8080/"
    },
    "id": "JCgt1wHwUwMw",
    "outputId": "af1ed873-de5e-4083-a4c9-0e2a174b67db"
   },
   "outputs": [],
   "source": [
    "for epoch in tqdm(range(config.epochs)):  # loop over the dataset multiple times\n",
    "    metric.reset()\n",
    "    running_loss = 0.0\n",
    "    for i, data in tqdm(enumerate(train_loader), total=len(train_loader), leave=False):\n",
    "        # get the inputs; data is a list of [inputs, labels]\n",
    "        inputs, labels = to_device(data, config.device)\n",
    "\n",
    "        # zero the parameter gradients\n",
    "        optimizer.zero_grad()\n",
    "\n",
    "        # forward + backward + optimize\n",
    "        outputs = model(inputs)\n",
    "        loss = criterion(outputs, labels)\n",
    "        loss.backward()\n",
    "        optimizer.step()\n",
    "        acc = metric(outputs, labels)\n",
    "\n",
    "        # print statistics\n",
    "        running_loss += loss.item()\n",
    "    print(f'[{epoch}] loss: {running_loss / 2000:.3f}, accuracy: {metric.compute():.3f}')\n",
    "    wandb.log({\n",
    "        \"loss\": running_loss,\n",
    "        \"accuracy\": metric.compute()\n",
    "    })\n",
    "\n",
    "print('Finished Training')"
   ]
  },
  {
   "cell_type": "code",
   "execution_count": null,
   "metadata": {
    "colab": {
     "base_uri": "https://localhost:8080/",
     "height": 155
    },
    "id": "RL20qfdQU584",
    "outputId": "530de9ca-446a-4f10-8438-513bf5883c31"
   },
   "outputs": [],
   "source": [
    "batch = next(iter(test_dataloader))\n",
    "images, labels = to_device(batch, config.device)\n",
    "preds = model(images).argmax(axis=1)\n",
    "images, preds, labels = to_device([images, preds, labels], device=\"cpu\")\n",
    "imshow(torchvision.utils.make_grid(images[0:4]))\n",
    "print(' '.join(f'{config.classes[preds[j]]}/{config.classes[labels[j]]:5s}' for j in range(4)))"
   ]
  },
  {
   "cell_type": "code",
   "execution_count": null,
   "metadata": {},
   "outputs": [],
   "source": [
    "wandb.finish()"
   ]
  },
  {
   "cell_type": "markdown",
   "metadata": {
    "id": "E8X6fm5GXcgF"
   },
   "source": [
    "# Functional PyTorch"
   ]
  },
  {
   "cell_type": "code",
   "execution_count": null,
   "metadata": {},
   "outputs": [],
   "source": [
    "from functorch import make_functional, grad_and_value"
   ]
  },
  {
   "cell_type": "code",
   "execution_count": null,
   "metadata": {
    "id": "_-7qoT0uXl5X"
   },
   "outputs": [],
   "source": [
    "model = Classifier().to(device=config.device)\n",
    "functional_model, params = make_functional(model)\n",
    "metric = Accuracy().to(config.device)"
   ]
  },
  {
   "cell_type": "code",
   "execution_count": null,
   "metadata": {
    "id": "N7Bepgk7Zoh8"
   },
   "outputs": [],
   "source": [
    "def sgd_optimizer(weights, gradients, learning_rate):\n",
    "    \"\"\"Naive SGD implementation\"\"\"\n",
    "\n",
    "    def step(weight, gradient):\n",
    "        return weight - learning_rate * gradient\n",
    "\n",
    "    return [step(weight, gradient) for weight, gradient in zip(weights, gradients)]"
   ]
  },
  {
   "cell_type": "code",
   "execution_count": null,
   "metadata": {},
   "outputs": [],
   "source": [
    "def compute_stateless_loss(params, inputs, labels):\n",
    "    outputs = functional_model(params, inputs)\n",
    "    loss = F.cross_entropy(outputs, labels)\n",
    "    return loss\n",
    "\n",
    "compute_gradients = grad_and_value(compute_stateless_loss)"
   ]
  },
  {
   "cell_type": "code",
   "execution_count": null,
   "metadata": {
    "id": "qacRrQrGX8wu"
   },
   "outputs": [],
   "source": [
    "def functional_step(params, inputs, labels):\n",
    "    gradients, loss = compute_gradients(params, inputs, labels)\n",
    "    params = sgd_optimizer(params, gradients, config.learning_rate)\n",
    "    return params, loss"
   ]
  },
  {
   "cell_type": "code",
   "execution_count": null,
   "metadata": {
    "id": "Wu6_jB6KYDyE"
   },
   "outputs": [],
   "source": [
    "def train(functional_step, params, metric):\n",
    "    running_loss = 0.\n",
    "    metric.reset()\n",
    "    for i, data in tqdm(enumerate(train_loader), total=len(train_loader), leave=False):\n",
    "        inputs, labels = to_device(data, config.device)\n",
    "        params, loss = functional_step(params, inputs, labels)\n",
    "        running_loss += loss.item()\n",
    "        \n",
    "        # new forward\n",
    "        outputs = functional_model(params, inputs)\n",
    "        metric(outputs, labels)\n",
    "        \n",
    "    return params, running_loss, metric"
   ]
  },
  {
   "cell_type": "code",
   "execution_count": null,
   "metadata": {
    "colab": {
     "base_uri": "https://localhost:8080/"
    },
    "id": "0UbHXKg_abDe",
    "outputId": "ccc18785-d527-4125-af21-9745c29e238f"
   },
   "outputs": [],
   "source": [
    "for epoch in tqdm(range(config.epochs)):\n",
    "    params, running_loss, metric = train(functional_step, params, metric)\n",
    "    print(f'[{epoch}] loss: {running_loss / 2000:.3f}, accuracy: {metric.compute():.3f}')\n",
    "    wandb.log({\n",
    "        \"loss\": running_loss,\n",
    "        \"accuracy\": metric.compute()\n",
    "    })"
   ]
  },
  {
   "cell_type": "code",
   "execution_count": null,
   "metadata": {
    "colab": {
     "base_uri": "https://localhost:8080/",
     "height": 155
    },
    "id": "RL20qfdQU584",
    "outputId": "530de9ca-446a-4f10-8438-513bf5883c31"
   },
   "outputs": [],
   "source": [
    "batch = next(iter(test_dataloader))\n",
    "images, labels = to_device(batch, config.device)\n",
    "preds = functional_model(params, images).argmax(axis=1)\n",
    "images, preds, labels = to_device([images, preds, labels], device=\"cpu\")\n",
    "imshow(torchvision.utils.make_grid(images[0:4]))\n",
    "print(' '.join(f'{config.classes[preds[j]]}/{config.classes[labels[j]]:5s}' for j in range(4)))"
   ]
  },
  {
   "cell_type": "code",
   "execution_count": null,
   "metadata": {},
   "outputs": [],
   "source": [
    "wandb.finish()"
   ]
  },
  {
   "cell_type": "code",
   "execution_count": null,
   "metadata": {},
   "outputs": [],
   "source": []
  }
 ],
 "metadata": {
  "colab": {
   "collapsed_sections": [],
   "name": "01_classfier_training.ipynb",
   "provenance": []
  },
  "interpreter": {
   "hash": "1cb289fd3f6fb9f8d1b857b82c3d33c61ab2a97f54aa1793b26dc75ee6c7ceef"
  },
  "kernelspec": {
   "display_name": "data",
   "language": "python",
   "name": "python3"
  },
  "language_info": {
   "codemirror_mode": {
    "name": "ipython",
    "version": 3
   },
   "file_extension": ".py",
   "mimetype": "text/x-python",
   "name": "python",
   "nbconvert_exporter": "python",
   "pygments_lexer": "ipython3",
   "version": "3.9.10"
  }
 },
 "nbformat": 4,
 "nbformat_minor": 4
}
